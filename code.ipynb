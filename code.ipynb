!nvidia-smi



pip install ultralytics==8.0.196



from ultralytics import YOLO
import os
from IPython.display import Image, display
from  IPython import display
display.clear_output()
!yolo checks



!pip install roboflow

from roboflow import Roboflow
rf = Roboflow(api_key="bhjqna4BkpnSh3jKrQyS")
project = rf.workspace("satyyams-worskshop").project("detection-wryqk")
version = project.version(6)
dataset = version.download("yolov8")


# to train
!yolo task=detect mode=train data=/content/Detection-6/data.yaml model=yolov8m.pt epochs=100 imgsz=640



# to predict
yolo task=detect mode=predict model=best.pt conf=0.5 source=8.mp4